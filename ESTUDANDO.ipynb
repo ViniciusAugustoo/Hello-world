{
  "cells": [
    {
      "cell_type": "markdown",
      "metadata": {
        "id": "view-in-github",
        "colab_type": "text"
      },
      "source": [
        "<a href=\"https://colab.research.google.com/github/ViniciusAugustoo/Hello-world/blob/main/ESTUDANDO.ipynb\" target=\"_parent\"><img src=\"https://colab.research.google.com/assets/colab-badge.svg\" alt=\"Open In Colab\"/></a>"
      ]
    },
    {
      "cell_type": "code",
      "source": [
        "FOR"
      ],
      "metadata": {
        "id": "p-4EYqoIyMbt",
        "colab": {
          "base_uri": "https://localhost:8080/",
          "height": 148
        },
        "outputId": "9fa5285e-8d51-484e-e390-b8bd9717c0c3"
      },
      "execution_count": null,
      "outputs": [
        {
          "output_type": "error",
          "ename": "NameError",
          "evalue": "name 'FOR' is not defined",
          "traceback": [
            "\u001b[0;31m---------------------------------------------------------------------------\u001b[0m",
            "\u001b[0;31mNameError\u001b[0m                                 Traceback (most recent call last)",
            "\u001b[0;32m<ipython-input-6-70d5f1da8600>\u001b[0m in \u001b[0;36m<cell line: 1>\u001b[0;34m()\u001b[0m\n\u001b[0;32m----> 1\u001b[0;31m \u001b[0mFOR\u001b[0m\u001b[0;34m\u001b[0m\u001b[0;34m\u001b[0m\u001b[0m\n\u001b[0m",
            "\u001b[0;31mNameError\u001b[0m: name 'FOR' is not defined"
          ]
        }
      ]
    },
    {
      "cell_type": "code",
      "source": [
        "nota = media = soma = 0\n",
        "for _ in range(1, 6):\n",
        "   nota = float(input(\"digite a nota \"))\n",
        "   soma += nota\n",
        "\n",
        "   print (soma)\n",
        "\n",
        "   media = soma /5\n",
        "   print ('a media é', media)"
      ],
      "metadata": {
        "colab": {
          "base_uri": "https://localhost:8080/"
        },
        "id": "21Wsf2bYyPF6",
        "outputId": "91f34557-417b-4f16-e787-4e62801b8b0d"
      },
      "execution_count": null,
      "outputs": [
        {
          "output_type": "stream",
          "name": "stdout",
          "text": [
            "digite a nota 5\n",
            "5.0\n",
            "a media é 1.0\n",
            "digite a nota 5\n",
            "10.0\n",
            "a media é 2.0\n",
            "digite a nota 5\n",
            "15.0\n",
            "a media é 3.0\n",
            "digite a nota 5\n",
            "20.0\n",
            "a media é 4.0\n",
            "digite a nota 5\n",
            "25.0\n",
            "a media é 5.0\n"
          ]
        }
      ]
    },
    {
      "cell_type": "markdown",
      "source": [
        "IMPORTAÇÃO DE BIBLIOTECAS"
      ],
      "metadata": {
        "id": "woU7RMFj24pM"
      }
    },
    {
      "cell_type": "code",
      "source": [
        "pip install plotly --upgrade\n"
      ],
      "metadata": {
        "id": "3sUzGMK_SaeC",
        "colab": {
          "base_uri": "https://localhost:8080/"
        },
        "outputId": "11baa541-9d5e-4a3a-e4e6-a851e32d44c2"
      },
      "execution_count": null,
      "outputs": [
        {
          "output_type": "stream",
          "name": "stdout",
          "text": [
            "Requirement already satisfied: plotly in /usr/local/lib/python3.10/dist-packages (5.15.0)\n",
            "Collecting plotly\n",
            "  Downloading plotly-5.23.0-py3-none-any.whl.metadata (7.3 kB)\n",
            "Requirement already satisfied: tenacity>=6.2.0 in /usr/local/lib/python3.10/dist-packages (from plotly) (9.0.0)\n",
            "Requirement already satisfied: packaging in /usr/local/lib/python3.10/dist-packages (from plotly) (24.1)\n",
            "Downloading plotly-5.23.0-py3-none-any.whl (17.3 MB)\n",
            "\u001b[2K   \u001b[90m━━━━━━━━━━━━━━━━━━━━━━━━━━━━━━━━━━━━━━━━\u001b[0m \u001b[32m17.3/17.3 MB\u001b[0m \u001b[31m48.5 MB/s\u001b[0m eta \u001b[36m0:00:00\u001b[0m\n",
            "\u001b[?25hInstalling collected packages: plotly\n",
            "  Attempting uninstall: plotly\n",
            "    Found existing installation: plotly 5.15.0\n",
            "    Uninstalling plotly-5.15.0:\n",
            "      Successfully uninstalled plotly-5.15.0\n",
            "Successfully installed plotly-5.23.0\n"
          ]
        }
      ]
    },
    {
      "cell_type": "code",
      "source": [
        "import pandas as pd\n",
        "import numpy as np\n",
        "import seaborn as sns\n",
        "import matplotlib.pyplot as plt\n",
        "import plotly.express as px\n"
      ],
      "metadata": {
        "id": "eKV6ILRO3LQc"
      },
      "execution_count": null,
      "outputs": []
    },
    {
      "cell_type": "markdown",
      "source": [
        "Base de dados de crédito\n",
        "Fonte (adaptado): https://www.kaggle.com/laotse/credit-risk-dataset\n",
        "\n",
        "[ ]\n"
      ],
      "metadata": {
        "id": "jpS8h7Bf7f5u"
      }
    },
    {
      "cell_type": "code",
      "source": [
        "from google.colab import drive\n",
        "drive.mount('/content/credit_data')"
      ],
      "metadata": {
        "id": "7aqAvL6c7mf3"
      },
      "execution_count": null,
      "outputs": []
    },
    {
      "cell_type": "markdown",
      "source": [
        "Exploração de dados"
      ],
      "metadata": {
        "id": "wzUOXUGf41xK"
      }
    },
    {
      "cell_type": "code",
      "source": [
        "base_credit = pd.read_csv('/content/credit_data.csv')"
      ],
      "metadata": {
        "collapsed": true,
        "id": "QrpokL_Z430v"
      },
      "execution_count": null,
      "outputs": []
    },
    {
      "cell_type": "markdown",
      "source": [
        "visualização de dados"
      ],
      "metadata": {
        "id": "_7jCZt1h_GCH"
      }
    },
    {
      "cell_type": "code",
      "source": [
        "base_credit #defaulted"
      ],
      "metadata": {
        "id": "BNURcKJ3_IwS"
      },
      "execution_count": null,
      "outputs": []
    },
    {
      "cell_type": "code",
      "source": [
        "base_credit.head()"
      ],
      "metadata": {
        "id": "ARHPX6Rg_RuS"
      },
      "execution_count": null,
      "outputs": []
    },
    {
      "cell_type": "code",
      "source": [
        "base_credit.tail()\n"
      ],
      "metadata": {
        "id": "QsRSk6sKIX-0"
      },
      "execution_count": null,
      "outputs": []
    },
    {
      "cell_type": "code",
      "source": [
        "base_credit.describe()\n"
      ],
      "metadata": {
        "id": "Y3YDJZv5ImNE"
      },
      "execution_count": null,
      "outputs": []
    },
    {
      "cell_type": "code",
      "source": [
        "base_credit[base_credit['income'] >= 69995.685578]"
      ],
      "metadata": {
        "id": "BPVHVhZVJMD5"
      },
      "execution_count": null,
      "outputs": []
    },
    {
      "cell_type": "code",
      "source": [
        "base_credit [base_credit['loan'] <= 1.3776301]"
      ],
      "metadata": {
        "id": "2KY8ujatJ_17"
      },
      "execution_count": null,
      "outputs": []
    },
    {
      "cell_type": "markdown",
      "source": [
        "visualização de dados"
      ],
      "metadata": {
        "id": "TbOH3JnnL2Po"
      }
    },
    {
      "cell_type": "code",
      "source": [
        "np.unique(base_credit['default'], return_counts=True)"
      ],
      "metadata": {
        "id": "w2q6Nl5UL4tG"
      },
      "execution_count": null,
      "outputs": []
    },
    {
      "cell_type": "code",
      "source": [
        "sns.countplot(x = base_credit['default']);"
      ],
      "metadata": {
        "id": "xAZXS3wLQ2Kq"
      },
      "execution_count": null,
      "outputs": []
    },
    {
      "cell_type": "code",
      "source": [
        "plt.hist(x = base_credit['age']);"
      ],
      "metadata": {
        "id": "_iphzC4gRTw3"
      },
      "execution_count": null,
      "outputs": []
    },
    {
      "cell_type": "code",
      "source": [
        "plt.hist(x = base_credit['income']);"
      ],
      "metadata": {
        "id": "JYxo2eKeR54D"
      },
      "execution_count": null,
      "outputs": []
    },
    {
      "cell_type": "code",
      "source": [
        "plt.hist(x = base_credit['loan']);"
      ],
      "metadata": {
        "id": "SrHogUU7SR2b"
      },
      "execution_count": null,
      "outputs": []
    },
    {
      "cell_type": "code",
      "source": [
        "grafico = px.scatter_matrix(base_credit, dimensions=['age','income', 'loan'], color = 'default')\n",
        "grafico.show()"
      ],
      "metadata": {
        "id": "d0zXRKqefvIB"
      },
      "execution_count": null,
      "outputs": []
    },
    {
      "cell_type": "markdown",
      "source": [
        "Tratamento de valores inconsistentes"
      ],
      "metadata": {
        "id": "pvYoLW5si1Qm"
      }
    },
    {
      "cell_type": "code",
      "source": [
        "base_credit.loc[base_credit['age'] < 0]"
      ],
      "metadata": {
        "id": "JAjSBdXJi4Fi"
      },
      "execution_count": null,
      "outputs": []
    },
    {
      "cell_type": "code",
      "source": [
        "#apagar a coluna age inteira ( do banco de dados)\n",
        "base_credit2 = base_credit.drop('age', axis = 1)\n",
        "base_credit2"
      ],
      "metadata": {
        "id": "D2t09ru1kd46"
      },
      "execution_count": null,
      "outputs": []
    },
    {
      "cell_type": "code",
      "source": [
        "#apagar somento os registros com inconsistencia\n",
        "base_credit3 = base_credit.drop(base_credit[base_credit ['age'] < 0].index)\n",
        "base_credit3"
      ],
      "metadata": {
        "id": "5RNLEDbQljyB"
      },
      "execution_count": null,
      "outputs": []
    },
    {
      "cell_type": "code",
      "source": [
        "#preencher os dados manualmente (mais confiavel, não a mais viavel)"
      ],
      "metadata": {
        "id": "u4X_lU8vnVhn"
      },
      "execution_count": null,
      "outputs": []
    },
    {
      "cell_type": "code",
      "source": [
        "#preencher com a media de idades\n",
        "base_credit.mean()\n"
      ],
      "metadata": {
        "id": "F_4Min9cnpMO"
      },
      "execution_count": null,
      "outputs": []
    },
    {
      "cell_type": "code",
      "source": [
        "base_credit['age'].mean()"
      ],
      "metadata": {
        "id": "RBe6cw8jn6Zv"
      },
      "execution_count": null,
      "outputs": []
    },
    {
      "cell_type": "code",
      "source": [
        "base_credit['age'][base_credit['age'] > 0 ].mean()"
      ],
      "metadata": {
        "id": "oq6TEbNTomhW"
      },
      "execution_count": null,
      "outputs": []
    },
    {
      "cell_type": "code",
      "source": [
        "base_credit.loc[base_credit['age'] < 0, 'age' ] = 40.92\n"
      ],
      "metadata": {
        "id": "csgOmcLWqDFI"
      },
      "execution_count": null,
      "outputs": []
    },
    {
      "cell_type": "code",
      "source": [
        "base_credit.loc[base_credit['age'] < 0 ]"
      ],
      "metadata": {
        "id": "Y6Fwa9UdsrDD"
      },
      "execution_count": null,
      "outputs": []
    },
    {
      "cell_type": "code",
      "source": [
        "base_credit.head(27)"
      ],
      "metadata": {
        "id": "3AE3xoBYrwTz"
      },
      "execution_count": null,
      "outputs": []
    },
    {
      "cell_type": "code",
      "source": [
        "base_credit.isnull()\n"
      ],
      "metadata": {
        "id": "VKALuChYbhZ7"
      },
      "execution_count": null,
      "outputs": []
    },
    {
      "cell_type": "code",
      "source": [
        "base_credit.isnull(). sum()"
      ],
      "metadata": {
        "id": "vmeKrOmqfm_Y"
      },
      "execution_count": null,
      "outputs": []
    },
    {
      "cell_type": "code",
      "source": [
        "base_credit. loc[pd.isnull(base_credit['age'])]"
      ],
      "metadata": {
        "id": "XfUde-PZgMVJ"
      },
      "execution_count": null,
      "outputs": []
    },
    {
      "cell_type": "code",
      "source": [
        "base_credit['age'].fillna(base_credit['age'].mean(), inplace = True)"
      ],
      "metadata": {
        "id": "CSB5z4PYggib"
      },
      "execution_count": null,
      "outputs": []
    },
    {
      "cell_type": "code",
      "source": [
        "base_credit. loc[pd.isnull(base_credit['age'])]"
      ],
      "metadata": {
        "id": "A_6qqmUXhR1p"
      },
      "execution_count": null,
      "outputs": []
    },
    {
      "cell_type": "code",
      "source": [
        "base_credit.loc[(base_credit['clientid'] == 29) | (base_credit['clientid'] == 31) | (base_credit['clientid'] == 32)]"
      ],
      "metadata": {
        "id": "DP94x2nShXwm"
      },
      "execution_count": null,
      "outputs": []
    },
    {
      "cell_type": "code",
      "source": [
        "base_credit.loc[base_credit['clientid'].isin([29, 31, 32])]"
      ],
      "metadata": {
        "id": "eSuPPoRdjNaR"
      },
      "execution_count": null,
      "outputs": []
    },
    {
      "cell_type": "code",
      "source": [
        "x_credit = base_credit.iloc[:, 1:4].values\n",
        "x_credit\n"
      ],
      "metadata": {
        "id": "za4exkt29fiS"
      },
      "execution_count": null,
      "outputs": []
    },
    {
      "cell_type": "code",
      "source": [
        "type(x_credit)"
      ],
      "metadata": {
        "id": "D0tlneV--QPG"
      },
      "execution_count": null,
      "outputs": []
    },
    {
      "cell_type": "code",
      "source": [
        "y_credit = base_credit.iloc[:, 4].values\n",
        "y_credit"
      ],
      "metadata": {
        "id": "w2Kqswlx-UTX"
      },
      "execution_count": null,
      "outputs": []
    },
    {
      "cell_type": "code",
      "source": [
        "type (y_credit)"
      ],
      "metadata": {
        "id": "XvjZJALc-iIS"
      },
      "execution_count": null,
      "outputs": []
    },
    {
      "cell_type": "markdown",
      "source": [
        "Tratamento dos valores faltantes"
      ],
      "metadata": {
        "id": "zL7Rjm9yarOh"
      }
    },
    {
      "cell_type": "code",
      "source": [
        "base_credit.isnull()"
      ],
      "metadata": {
        "id": "BN8Xo9O0cj_R"
      },
      "execution_count": null,
      "outputs": []
    },
    {
      "cell_type": "code",
      "source": [
        "base_credit.isnull().sum()"
      ],
      "metadata": {
        "id": "rBx4bDSDauRS"
      },
      "execution_count": null,
      "outputs": []
    },
    {
      "cell_type": "code",
      "source": [
        "base_credit.loc[pd.isnull(base_credit['age'])]"
      ],
      "metadata": {
        "id": "XZxc6H_fc-Zo"
      },
      "execution_count": null,
      "outputs": []
    },
    {
      "cell_type": "code",
      "source": [
        "base_credit.loc[base_credit['clientid']].isin([29, 31, 32])"
      ],
      "metadata": {
        "id": "HbS80aHHdOA_"
      },
      "execution_count": null,
      "outputs": []
    },
    {
      "cell_type": "markdown",
      "source": [
        "DIVISAO ENTRE PREVISORES E CLASSE"
      ],
      "metadata": {
        "id": "hcE2NI7zdH3V"
      }
    },
    {
      "cell_type": "code",
      "source": [
        "x_credit = base_credit.iloc[:, 1:4].values\n",
        "x_credit"
      ],
      "metadata": {
        "id": "dTXOL5Q1dJ53"
      },
      "execution_count": null,
      "outputs": []
    },
    {
      "cell_type": "code",
      "source": [
        "type(x_credit)"
      ],
      "metadata": {
        "id": "gDpTPpJcenvR"
      },
      "execution_count": null,
      "outputs": []
    },
    {
      "cell_type": "code",
      "source": [
        "y_credit = base_credit.iloc[:, 4].values"
      ],
      "metadata": {
        "id": "lWUl73XweyVN"
      },
      "execution_count": null,
      "outputs": []
    },
    {
      "cell_type": "code",
      "source": [
        "y_credit"
      ],
      "metadata": {
        "id": "zxRwVyBEe6fe"
      },
      "execution_count": null,
      "outputs": []
    },
    {
      "cell_type": "code",
      "source": [
        "type(y_credit)"
      ],
      "metadata": {
        "id": "dsqI3BYae9a8"
      },
      "execution_count": null,
      "outputs": []
    },
    {
      "cell_type": "code",
      "source": [
        "x_credit[:, 0].min()"
      ],
      "metadata": {
        "id": "WmPXBFnDGt1B"
      },
      "execution_count": null,
      "outputs": []
    },
    {
      "cell_type": "code",
      "source": [
        "x_credit[:, 0].max()"
      ],
      "metadata": {
        "id": "8KGqypdkG8uD"
      },
      "execution_count": null,
      "outputs": []
    },
    {
      "cell_type": "code",
      "source": [
        "x_credit[:, 1].min()"
      ],
      "metadata": {
        "id": "Gil7u4DLHBlH"
      },
      "execution_count": null,
      "outputs": []
    },
    {
      "cell_type": "code",
      "source": [
        "x_credit[:, 1].max()"
      ],
      "metadata": {
        "id": "YRrogY2WHGF_"
      },
      "execution_count": null,
      "outputs": []
    },
    {
      "cell_type": "code",
      "source": [
        "x_credit[:, 2].min()"
      ],
      "metadata": {
        "id": "mK1Q908gHO8K"
      },
      "execution_count": null,
      "outputs": []
    },
    {
      "cell_type": "code",
      "source": [
        "x_credit[:, 2].max()"
      ],
      "metadata": {
        "id": "XutN10dgHSOA"
      },
      "execution_count": null,
      "outputs": []
    },
    {
      "cell_type": "code",
      "source": [
        "from sklearn.preprocessing import StandardScaler\n",
        "scaler_credit = StandardScaler()\n",
        "x_credit = scaler_credit.fit_transform(x_credit)\n"
      ],
      "metadata": {
        "id": "vrdLEbWAIk7Y"
      },
      "execution_count": null,
      "outputs": []
    },
    {
      "cell_type": "code",
      "source": [
        "x_credit[:, 0].min(), x_credit[:, 1].min(), x_credit[:, 2].min()"
      ],
      "metadata": {
        "id": "OmWwb9nvJbod"
      },
      "execution_count": null,
      "outputs": []
    },
    {
      "cell_type": "code",
      "source": [
        "x_credit[:, 0].max(), x_credit[:, 1].max(), x_credit[:, 2].max()"
      ],
      "metadata": {
        "id": "3UL5fEcHJu-W"
      },
      "execution_count": null,
      "outputs": []
    },
    {
      "cell_type": "code",
      "source": [
        "x_credit"
      ],
      "metadata": {
        "id": "3sAQUD64MMPg"
      },
      "execution_count": null,
      "outputs": []
    },
    {
      "cell_type": "markdown",
      "source": [
        "Base de dados do censo"
      ],
      "metadata": {
        "id": "kl6ROdr_MUNf"
      }
    },
    {
      "cell_type": "markdown",
      "source": [
        "fonte: https://archive.ics.uci.edu/ml/datasets/adult"
      ],
      "metadata": {
        "id": "nrJpaa9kNoOX"
      }
    },
    {
      "cell_type": "code",
      "source": [
        "base_census = pd.read_csv('/content/census.csv')"
      ],
      "metadata": {
        "id": "xzu-1iU6MWD-"
      },
      "execution_count": null,
      "outputs": []
    },
    {
      "cell_type": "code",
      "source": [
        "base_census"
      ],
      "metadata": {
        "id": "dqAmmSWUOubU"
      },
      "execution_count": null,
      "outputs": []
    },
    {
      "cell_type": "code",
      "source": [
        "base_census.describe()"
      ],
      "metadata": {
        "id": "TvrvY_QHURpv"
      },
      "execution_count": null,
      "outputs": []
    },
    {
      "cell_type": "code",
      "source": [
        "base_census.isnull().sum()"
      ],
      "metadata": {
        "id": "L2d_0i-XUxoC"
      },
      "execution_count": null,
      "outputs": []
    },
    {
      "cell_type": "markdown",
      "source": [
        "visualização de dados census"
      ],
      "metadata": {
        "id": "EOoKtohjWX1u"
      }
    },
    {
      "cell_type": "code",
      "source": [
        "np.unique(base_census['income'], return_counts= True)"
      ],
      "metadata": {
        "id": "7PuIks3HWZpf"
      },
      "execution_count": null,
      "outputs": []
    },
    {
      "cell_type": "code",
      "source": [
        "sns.countplot(x = base_census['income'])"
      ],
      "metadata": {
        "id": "JTREE2CdW4MU"
      },
      "execution_count": null,
      "outputs": []
    },
    {
      "cell_type": "code",
      "source": [
        "plt.hist(x = base_census['age'])"
      ],
      "metadata": {
        "id": "O3t3BhUtXD92"
      },
      "execution_count": null,
      "outputs": []
    },
    {
      "cell_type": "code",
      "source": [
        "plt.hist(x = base_census['education-num'])"
      ],
      "metadata": {
        "id": "TrVmi_0eXY4P"
      },
      "execution_count": null,
      "outputs": []
    },
    {
      "cell_type": "code",
      "source": [
        "plt.hist(x = base_census['hour-per-week'])"
      ],
      "metadata": {
        "id": "rHsQJi6WXttP"
      },
      "execution_count": null,
      "outputs": []
    },
    {
      "cell_type": "code",
      "source": [
        "grafico = px.treemap(base_census, path=['workclass', 'age'])\n",
        "grafico.show()"
      ],
      "metadata": {
        "id": "vdFe3gK2YIOd"
      },
      "execution_count": null,
      "outputs": []
    },
    {
      "cell_type": "code",
      "source": [
        "rafico = px.treemap(base_census, path=['occupation','relationship'])\n",
        "grafico.show()"
      ],
      "metadata": {
        "id": "ru2YoPdQY555"
      },
      "execution_count": null,
      "outputs": []
    },
    {
      "cell_type": "code",
      "source": [],
      "metadata": {
        "id": "1s7S0OBcYnGu"
      },
      "execution_count": null,
      "outputs": []
    },
    {
      "cell_type": "markdown",
      "source": [
        "inicio dos estudos py"
      ],
      "metadata": {
        "id": "WZ9bJL5_nlMk"
      }
    },
    {
      "cell_type": "code",
      "source": [
        "lista = []\n",
        "for _ in range (1, 6):\n",
        "  valor = int(input('digite um numero: '))\n",
        "  lista.append(valor)"
      ],
      "metadata": {
        "id": "q1ffnCbAnnAT"
      },
      "execution_count": null,
      "outputs": []
    },
    {
      "cell_type": "code",
      "source": [
        "print (lista)"
      ],
      "metadata": {
        "id": "AhZC0P2MnrQz"
      },
      "execution_count": null,
      "outputs": []
    },
    {
      "cell_type": "code",
      "source": [
        "len(lista)"
      ],
      "metadata": {
        "id": "mciq3C0Xnuj1"
      },
      "execution_count": null,
      "outputs": []
    },
    {
      "cell_type": "code",
      "source": [
        "soma = 0\n",
        "for valor in lista:\n",
        "  soma = soma + valor\n",
        "  print (soma)"
      ],
      "metadata": {
        "id": "iWNCB7IIn-we"
      },
      "execution_count": null,
      "outputs": []
    },
    {
      "cell_type": "code",
      "source": [
        "print(soma)"
      ],
      "metadata": {
        "id": "jgomcZfxoSFj"
      },
      "execution_count": null,
      "outputs": []
    },
    {
      "cell_type": "code",
      "source": [
        "aluno = {}\n",
        "for _ in range (1, 4):\n",
        "    nome = input('digite o nome do aluno:' )\n",
        "    notas = float(input('digite a nota do aluno: '))\n",
        "    aluno[nome] = notas"
      ],
      "metadata": {
        "id": "GyyzV6UqovBi"
      },
      "execution_count": null,
      "outputs": []
    },
    {
      "cell_type": "code",
      "source": [
        "aluno"
      ],
      "metadata": {
        "id": "90D4oMluqdih"
      },
      "execution_count": null,
      "outputs": []
    },
    {
      "cell_type": "code",
      "source": [
        "aluno['fabin']"
      ],
      "metadata": {
        "id": "L5T2LhGvuGC1"
      },
      "execution_count": null,
      "outputs": []
    },
    {
      "cell_type": "code",
      "source": [
        "aluno.values()"
      ],
      "metadata": {
        "id": "bRIEiw_QrcGA"
      },
      "execution_count": null,
      "outputs": []
    },
    {
      "cell_type": "code",
      "source": [
        "soma = 0\n",
        "for nota in aluno.values():\n",
        "   soma += nota\n",
        "   print('media', soma /3)"
      ],
      "metadata": {
        "id": "RjpyfbDUr9oQ"
      },
      "execution_count": null,
      "outputs": []
    },
    {
      "cell_type": "code",
      "source": [
        "import numpy as np\n",
        "np.array(lista).sum()"
      ],
      "metadata": {
        "id": "5gCrsRURwaCt"
      },
      "execution_count": null,
      "outputs": []
    },
    {
      "cell_type": "code",
      "source": [
        "matriz = np.array([[3, 4, 1],[3, 1, 5]])\n",
        "matriz"
      ],
      "metadata": {
        "id": "dvCrtLIEuTm_"
      },
      "execution_count": null,
      "outputs": []
    },
    {
      "cell_type": "code",
      "source": [
        "matriz.shape"
      ],
      "metadata": {
        "id": "zfbhq2bgxS-w"
      },
      "execution_count": null,
      "outputs": []
    },
    {
      "cell_type": "code",
      "source": [
        "soma = 0\n",
        "for i in range (matriz.shape[0]):\n",
        "    for j in range (matriz.shape[1]):\n",
        "\n",
        "      soma += matriz [i][j]\n",
        "      print ('soma', soma)"
      ],
      "metadata": {
        "id": "9tEJlGgCwv4k"
      },
      "execution_count": null,
      "outputs": []
    },
    {
      "cell_type": "code",
      "source": [],
      "metadata": {
        "id": "vIkxLNCjxhrD"
      },
      "execution_count": null,
      "outputs": []
    },
    {
      "cell_type": "markdown",
      "source": [
        "**funçoes python**\n"
      ],
      "metadata": {
        "id": "YqqxdW7Z-FY5"
      }
    },
    {
      "cell_type": "code",
      "source": [
        "def mensagem():\n",
        "  print('texto da função')"
      ],
      "metadata": {
        "id": "fPNLkP9O-HN4"
      },
      "execution_count": null,
      "outputs": []
    },
    {
      "cell_type": "code",
      "source": [
        "mensagem()\n"
      ],
      "metadata": {
        "id": "RL2w6hOw-dYR"
      },
      "execution_count": null,
      "outputs": []
    },
    {
      "cell_type": "code",
      "source": [
        "def mensagem(texto):\n",
        "   print (texto)"
      ],
      "metadata": {
        "id": "Rpr_3ww6-nAI"
      },
      "execution_count": null,
      "outputs": []
    },
    {
      "cell_type": "code",
      "source": [
        "mensagem('texto 1')\n",
        "mensagem('texto 2')\n",
        "mensagem('texto 3')"
      ],
      "metadata": {
        "id": "u-xmx8NH_C6g"
      },
      "execution_count": null,
      "outputs": []
    },
    {
      "cell_type": "code",
      "source": [
        "def soma (a, b):\n",
        "  print(a + b)"
      ],
      "metadata": {
        "id": "iurH7DRA_ZSf"
      },
      "execution_count": null,
      "outputs": []
    },
    {
      "cell_type": "code",
      "source": [
        "soma(2, 3)"
      ],
      "metadata": {
        "id": "-LJS2u_k_fWv"
      },
      "execution_count": null,
      "outputs": []
    },
    {
      "cell_type": "code",
      "source": [
        "soma (3, 3)"
      ],
      "metadata": {
        "id": "ntpXZebZ_4RH"
      },
      "execution_count": null,
      "outputs": []
    },
    {
      "cell_type": "code",
      "source": [
        "soma (1, 2)"
      ],
      "metadata": {
        "id": "pE37WqOd_8Pg"
      },
      "execution_count": null,
      "outputs": []
    },
    {
      "cell_type": "code",
      "source": [
        "def soma(a, b):\n",
        "  return (a + b)"
      ],
      "metadata": {
        "id": "NVz6zkSqAE96"
      },
      "execution_count": null,
      "outputs": []
    },
    {
      "cell_type": "code",
      "source": [
        "soma (3, 2)"
      ],
      "metadata": {
        "id": "_mzBtjBBALfO"
      },
      "execution_count": null,
      "outputs": []
    },
    {
      "cell_type": "code",
      "source": [
        "r = soma (3, 2)"
      ],
      "metadata": {
        "id": "pphW7vdWAOJ_"
      },
      "execution_count": null,
      "outputs": []
    },
    {
      "cell_type": "code",
      "source": [
        "print (r)"
      ],
      "metadata": {
        "id": "Mf7Ar0yTARpe"
      },
      "execution_count": null,
      "outputs": []
    },
    {
      "cell_type": "code",
      "source": [
        "def calcula_energia_potencial_gravitacional(m, h, g = 10):\n",
        "  e = g * m\n",
        "  return e"
      ],
      "metadata": {
        "id": "QuZZX04mAS9H"
      },
      "execution_count": null,
      "outputs": []
    },
    {
      "cell_type": "code",
      "source": [
        "calcula_energia_potencial_gravitacional(30, 12)"
      ],
      "metadata": {
        "id": "EdmDkLyyAtEe"
      },
      "execution_count": null,
      "outputs": []
    },
    {
      "cell_type": "code",
      "source": [
        "calcula_energia_potencial_gravitacional(30, 12, 9.8)\n"
      ],
      "metadata": {
        "id": "1J-RtPprAwjP"
      },
      "execution_count": null,
      "outputs": []
    },
    {
      "cell_type": "code",
      "source": [
        "def ler_temperatura():\n",
        "   temperatura = float(input('digite o valor da temperatura em graus celsius: '))\n",
        "   return temperatura"
      ],
      "metadata": {
        "id": "BItJmg4-BK57"
      },
      "execution_count": null,
      "outputs": []
    },
    {
      "cell_type": "code",
      "source": [
        "def converter(temperatura_celsius):\n",
        "  temperatura_f = (9 * temperatura_celsius + 160)/5\n",
        "  return temperatura_f\n"
      ],
      "metadata": {
        "id": "V6s0oPUvEAhU"
      },
      "execution_count": null,
      "outputs": []
    },
    {
      "cell_type": "code",
      "source": [
        "def mostrar (temperatura_f):\n",
        "  print (temperatura_f)"
      ],
      "metadata": {
        "id": "wbMbZ3SiEwUL"
      },
      "execution_count": null,
      "outputs": []
    },
    {
      "cell_type": "code",
      "source": [
        "temperatura_c = ler_temperatura()\n",
        "temperatura_f = converter(temperatura_c)\n",
        "mostrar(temperatura_f)"
      ],
      "metadata": {
        "id": "FtTa_eCIFU8b"
      },
      "execution_count": null,
      "outputs": []
    },
    {
      "cell_type": "code",
      "source": [
        "def leitura():\n",
        "  velocidade = float(input('digite a velocidade:'))\n",
        "  tempo = float(input('digite o tempo:'))\n",
        "  return velocidade, tempo"
      ],
      "metadata": {
        "id": "gL1_rThmFp1E"
      },
      "execution_count": null,
      "outputs": []
    },
    {
      "cell_type": "code",
      "source": [
        "def calcula_distancia(velocidade, tempo):\n",
        "  return tempo * velocidade"
      ],
      "metadata": {
        "id": "teUbs_M5G5ca"
      },
      "execution_count": null,
      "outputs": []
    },
    {
      "cell_type": "code",
      "source": [
        "def calcula_litros(distancia):\n",
        "  return distancia / 12"
      ],
      "metadata": {
        "id": "Lmlg_Iq0IDto"
      },
      "execution_count": null,
      "outputs": []
    },
    {
      "cell_type": "code",
      "source": [
        "def imprimir(velocidade, distancia, tempo, litros):\n",
        "   print('velocidade' , velocidade)\n",
        "   print('distancia' , distancia)\n",
        "   print('tempo' , tempo)\n",
        "   print('litros' , litros)"
      ],
      "metadata": {
        "id": "3CHIWpQtKacj"
      },
      "execution_count": null,
      "outputs": []
    },
    {
      "cell_type": "code",
      "source": [
        "v, t = leitura()\n",
        "d = calcula_distancia(v, t)\n",
        "q = calcula_litros(d)\n",
        "imprimir(v, d, t, q)"
      ],
      "metadata": {
        "id": "PaP5X3ADN4f9"
      },
      "execution_count": null,
      "outputs": []
    },
    {
      "cell_type": "markdown",
      "source": [
        "BIBLIOTECA MATH"
      ],
      "metadata": {
        "id": "ht4E9GnDKFwu"
      }
    },
    {
      "cell_type": "code",
      "source": [
        "import math"
      ],
      "metadata": {
        "id": "qfaOmnHcI7tw"
      },
      "execution_count": null,
      "outputs": []
    },
    {
      "cell_type": "code",
      "source": [
        "math.sqrt(9)"
      ],
      "metadata": {
        "id": "gUHwxx8sJBBw"
      },
      "execution_count": null,
      "outputs": []
    },
    {
      "cell_type": "code",
      "source": [
        "math.sin(45)"
      ],
      "metadata": {
        "id": "HVuSMAKdJLY9"
      },
      "execution_count": null,
      "outputs": []
    },
    {
      "cell_type": "code",
      "source": [
        "math.cos(45)"
      ],
      "metadata": {
        "id": "n9lD2SEUJTV_"
      },
      "execution_count": null,
      "outputs": []
    },
    {
      "cell_type": "code",
      "source": [
        "math.log(1000, 10)"
      ],
      "metadata": {
        "id": "TxVSeTc1Jn0g"
      },
      "execution_count": null,
      "outputs": []
    },
    {
      "cell_type": "code",
      "source": [
        "math.pi"
      ],
      "metadata": {
        "id": "Jh_1qtVWJ9zQ"
      },
      "execution_count": null,
      "outputs": []
    },
    {
      "cell_type": "markdown",
      "source": [
        "Biblioteca datetime"
      ],
      "metadata": {
        "id": "oOexzUSwKNki"
      }
    },
    {
      "cell_type": "code",
      "source": [
        "import datetime"
      ],
      "metadata": {
        "id": "tSIhJZKFKQrM"
      },
      "execution_count": null,
      "outputs": []
    },
    {
      "cell_type": "code",
      "source": [
        "dir(datetime)\n"
      ],
      "metadata": {
        "id": "-p36HSs6KZ5x"
      },
      "execution_count": null,
      "outputs": []
    },
    {
      "cell_type": "code",
      "source": [
        "datetime.date.today()\n"
      ],
      "metadata": {
        "id": "Ck8dSYmiKc8A"
      },
      "execution_count": null,
      "outputs": []
    },
    {
      "cell_type": "code",
      "source": [
        "datetime.datetime.now()"
      ],
      "metadata": {
        "id": "1TRnwH3TK3i2"
      },
      "execution_count": null,
      "outputs": []
    },
    {
      "cell_type": "code",
      "source": [
        "data = datetime.date(2024, 8, 7)"
      ],
      "metadata": {
        "id": "lVzFZAgkLCK0"
      },
      "execution_count": null,
      "outputs": []
    },
    {
      "cell_type": "code",
      "source": [
        "data"
      ],
      "metadata": {
        "id": "WcuWLbkRLVvZ"
      },
      "execution_count": null,
      "outputs": []
    },
    {
      "cell_type": "code",
      "source": [
        "data.day"
      ],
      "metadata": {
        "id": "4vnwCdeXLWXK"
      },
      "execution_count": null,
      "outputs": []
    },
    {
      "cell_type": "code",
      "source": [
        "data.month"
      ],
      "metadata": {
        "id": "yeYLRHgaLebS"
      },
      "execution_count": null,
      "outputs": []
    },
    {
      "cell_type": "code",
      "source": [
        "data.year"
      ],
      "metadata": {
        "id": "KZzSoJkFLfyu"
      },
      "execution_count": null,
      "outputs": []
    },
    {
      "cell_type": "code",
      "source": [
        "horario = datetime.datetime (2024, 8, 7, 7, 8, 0)"
      ],
      "metadata": {
        "id": "prl89BoeLhQH"
      },
      "execution_count": null,
      "outputs": []
    },
    {
      "cell_type": "code",
      "source": [
        "horario"
      ],
      "metadata": {
        "id": "15U5bH1WLjOt"
      },
      "execution_count": null,
      "outputs": []
    },
    {
      "cell_type": "code",
      "source": [
        "horario.hour"
      ],
      "metadata": {
        "id": "fVub3LP4MAvs"
      },
      "execution_count": null,
      "outputs": []
    },
    {
      "cell_type": "code",
      "source": [
        "horario.minute"
      ],
      "metadata": {
        "id": "HCyxER5-MFTE"
      },
      "execution_count": null,
      "outputs": []
    },
    {
      "cell_type": "code",
      "source": [
        "horario.second"
      ],
      "metadata": {
        "id": "H8RvwyWWMGdH"
      },
      "execution_count": null,
      "outputs": []
    },
    {
      "cell_type": "markdown",
      "source": [
        "Biblioteca random"
      ],
      "metadata": {
        "id": "m1A2wo-NMVg-"
      }
    },
    {
      "cell_type": "code",
      "source": [
        "import random"
      ],
      "metadata": {
        "id": "DBHi9fZ1MXIv"
      },
      "execution_count": null,
      "outputs": []
    },
    {
      "cell_type": "code",
      "source": [
        "random.random()"
      ],
      "metadata": {
        "id": "cSTOHuNRMqdY"
      },
      "execution_count": null,
      "outputs": []
    },
    {
      "cell_type": "code",
      "source": [
        "random.randint(1, 5)"
      ],
      "metadata": {
        "id": "XVz_1QJsMwrm"
      },
      "execution_count": null,
      "outputs": []
    },
    {
      "cell_type": "code",
      "source": [
        "random.randrange(0, 10, 2)"
      ],
      "metadata": {
        "id": "j9g6mFDVM7NN"
      },
      "execution_count": null,
      "outputs": []
    },
    {
      "cell_type": "code",
      "source": [
        "random.randrange(0, 10, 3)"
      ],
      "metadata": {
        "id": "r_pYLzDEPMPj"
      },
      "execution_count": null,
      "outputs": []
    },
    {
      "cell_type": "code",
      "source": [
        "x = ['k', 'd', '13', '34']\n",
        "x"
      ],
      "metadata": {
        "id": "r--citrHPMHd"
      },
      "execution_count": null,
      "outputs": []
    },
    {
      "cell_type": "code",
      "source": [
        "random.choice(x)"
      ],
      "metadata": {
        "id": "v5tyJSk8PizG"
      },
      "execution_count": null,
      "outputs": []
    },
    {
      "cell_type": "markdown",
      "source": [
        "Biblioteca time"
      ],
      "metadata": {
        "id": "_GqJ0whAPt5N"
      }
    },
    {
      "cell_type": "code",
      "source": [
        "import time as tm"
      ],
      "metadata": {
        "id": "QR2MozuAPvft"
      },
      "execution_count": null,
      "outputs": []
    },
    {
      "cell_type": "code",
      "source": [
        "tm.time()"
      ],
      "metadata": {
        "id": "9Et4x6jHP0c5"
      },
      "execution_count": null,
      "outputs": []
    },
    {
      "cell_type": "code",
      "source": [
        "tm.localtime()"
      ],
      "metadata": {
        "id": "hvQIoA3xP7Bu"
      },
      "execution_count": null,
      "outputs": []
    },
    {
      "cell_type": "code",
      "source": [
        "antes = tm.time()\n",
        "lista = []\n",
        "for i in range (0, 10000):\n",
        "    lista.append(i)\n",
        "    depois = tm.time()"
      ],
      "metadata": {
        "id": "usbTGxsEP_XJ"
      },
      "execution_count": null,
      "outputs": []
    },
    {
      "cell_type": "code",
      "source": [
        "intervalo = depois - antes\n",
        "print(f'tempo: {intervalo}segundos')"
      ],
      "metadata": {
        "id": "ZFLftFoQQPCa"
      },
      "execution_count": null,
      "outputs": []
    },
    {
      "cell_type": "code",
      "source": [
        "print('finalizando...')\n",
        "tm.sleep(2)\n",
        "print('...')\n",
        "tm.sleep(2)\n",
        "print('ate a proxima')\n"
      ],
      "metadata": {
        "id": "EAUwMpj-Qtsm"
      },
      "execution_count": null,
      "outputs": []
    },
    {
      "cell_type": "code",
      "source": [
        "print = (3/0)"
      ],
      "metadata": {
        "id": "hkk80-30QRZP"
      },
      "execution_count": null,
      "outputs": []
    },
    {
      "cell_type": "code",
      "source": [
        "2.3 / 'cachorro'\n"
      ],
      "metadata": {
        "id": "cIRK2pDIQXGu"
      },
      "execution_count": null,
      "outputs": []
    },
    {
      "cell_type": "code",
      "source": [
        "c = [1, 2, 3, 4, 5]\n",
        "c"
      ],
      "metadata": {
        "id": "DfZYYL4eQl05"
      },
      "execution_count": null,
      "outputs": []
    },
    {
      "cell_type": "code",
      "source": [
        "c[5]"
      ],
      "metadata": {
        "id": "7HVnpIroQxxE"
      },
      "execution_count": null,
      "outputs": []
    },
    {
      "cell_type": "code",
      "source": [
        "while True:\n",
        "     try:\n",
        "        n = int(input('digite um numero inteiro: '))\n",
        "     except:\n",
        "        print('valor invalido')\n",
        "     else:\n",
        "        print(f'valor digitado é {n}')\n",
        "        break"
      ],
      "metadata": {
        "id": "Hycp8ldYQ7n0"
      },
      "execution_count": null,
      "outputs": []
    },
    {
      "cell_type": "code",
      "source": [
        "while True:\n",
        "  try:\n",
        "    p = int(input('digite um numero inteiro:'))\n",
        "  except ValueError:\n",
        "      print('valor invalido')\n",
        "  except KeyboardInterrupt:\n",
        "        print('usuario interrompeu a execução')\n",
        "        break\n",
        "  else:\n",
        "          print(f'valor digitado é {p}')\n",
        "          break"
      ],
      "metadata": {
        "id": "NM86rm1QhZzu"
      },
      "execution_count": null,
      "outputs": []
    }
  ],
  "metadata": {
    "colab": {
      "provenance": [],
      "include_colab_link": true
    },
    "kernelspec": {
      "display_name": "Python 3",
      "name": "python3"
    }
  },
  "nbformat": 4,
  "nbformat_minor": 0
}